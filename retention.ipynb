{
 "cells": [
  {
   "cell_type": "markdown",
   "metadata": {},
   "source": [
    "# Task_2"
   ]
  },
  {
   "cell_type": "code",
   "execution_count": 211,
   "metadata": {},
   "outputs": [],
   "source": [
    "import pandas as pd\n",
    "import numpy as np\n",
    "import scipy.stats as scs\n",
    "from datetime import datetime\n",
    "import matplotlib.pyplot as plt\n",
    "import seaborn as sns"
   ]
  },
  {
   "cell_type": "code",
   "execution_count": 212,
   "metadata": {},
   "outputs": [],
   "source": [
    "df = pd.read_csv('task_2.csv')"
   ]
  },
  {
   "cell_type": "code",
   "execution_count": 213,
   "metadata": {},
   "outputs": [
    {
     "name": "stdout",
     "output_type": "stream",
     "text": [
      "<class 'pandas.core.frame.DataFrame'>\n",
      "RangeIndex: 52543 entries, 0 to 52542\n",
      "Data columns (total 3 columns):\n",
      " #   Column           Non-Null Count  Dtype \n",
      "---  ------           --------------  ----- \n",
      " 0   player_id        52543 non-null  int64 \n",
      " 1   event_timestamp  52543 non-null  int64 \n",
      " 2   event_name       52543 non-null  object\n",
      "dtypes: int64(2), object(1)\n",
      "memory usage: 1.2+ MB\n"
     ]
    }
   ],
   "source": [
    "df.info()"
   ]
  },
  {
   "cell_type": "code",
   "execution_count": 214,
   "metadata": {},
   "outputs": [
    {
     "data": {
      "text/html": [
       "<div>\n",
       "<style scoped>\n",
       "    .dataframe tbody tr th:only-of-type {\n",
       "        vertical-align: middle;\n",
       "    }\n",
       "\n",
       "    .dataframe tbody tr th {\n",
       "        vertical-align: top;\n",
       "    }\n",
       "\n",
       "    .dataframe thead th {\n",
       "        text-align: right;\n",
       "    }\n",
       "</style>\n",
       "<table border=\"1\" class=\"dataframe\">\n",
       "  <thead>\n",
       "    <tr style=\"text-align: right;\">\n",
       "      <th></th>\n",
       "      <th>player_id</th>\n",
       "      <th>event_timestamp</th>\n",
       "      <th>event_name</th>\n",
       "    </tr>\n",
       "  </thead>\n",
       "  <tbody>\n",
       "    <tr>\n",
       "      <th>0</th>\n",
       "      <td>1058930</td>\n",
       "      <td>1632265733</td>\n",
       "      <td>install</td>\n",
       "    </tr>\n",
       "    <tr>\n",
       "      <th>1</th>\n",
       "      <td>1055681</td>\n",
       "      <td>1632412526</td>\n",
       "      <td>login</td>\n",
       "    </tr>\n",
       "    <tr>\n",
       "      <th>2</th>\n",
       "      <td>1057784</td>\n",
       "      <td>1632411775</td>\n",
       "      <td>login</td>\n",
       "    </tr>\n",
       "    <tr>\n",
       "      <th>3</th>\n",
       "      <td>1015250</td>\n",
       "      <td>1631923078</td>\n",
       "      <td>login</td>\n",
       "    </tr>\n",
       "    <tr>\n",
       "      <th>4</th>\n",
       "      <td>1040648</td>\n",
       "      <td>1631670785</td>\n",
       "      <td>login</td>\n",
       "    </tr>\n",
       "  </tbody>\n",
       "</table>\n",
       "</div>"
      ],
      "text/plain": [
       "   player_id  event_timestamp event_name\n",
       "0    1058930       1632265733    install\n",
       "1    1055681       1632412526      login\n",
       "2    1057784       1632411775      login\n",
       "3    1015250       1631923078      login\n",
       "4    1040648       1631670785      login"
      ]
     },
     "execution_count": 214,
     "metadata": {},
     "output_type": "execute_result"
    }
   ],
   "source": [
    "df.head()"
   ]
  },
  {
   "cell_type": "code",
   "execution_count": 215,
   "metadata": {},
   "outputs": [
    {
     "data": {
      "text/plain": [
       "player_id           int64\n",
       "event_timestamp     int64\n",
       "event_name         object\n",
       "dtype: object"
      ]
     },
     "execution_count": 215,
     "metadata": {},
     "output_type": "execute_result"
    }
   ],
   "source": [
    "df.dtypes"
   ]
  },
  {
   "cell_type": "code",
   "execution_count": 216,
   "metadata": {},
   "outputs": [
    {
     "data": {
      "text/plain": [
       "count    5.254300e+04\n",
       "mean     1.632071e+09\n",
       "std      2.166859e+05\n",
       "min      1.631664e+09\n",
       "25%      1.631899e+09\n",
       "50%      1.632073e+09\n",
       "75%      1.632257e+09\n",
       "max      1.632442e+09\n",
       "Name: event_timestamp, dtype: float64"
      ]
     },
     "execution_count": 216,
     "metadata": {},
     "output_type": "execute_result"
    }
   ],
   "source": [
    "df['event_timestamp'].describe()"
   ]
  },
  {
   "cell_type": "code",
   "execution_count": 217,
   "metadata": {},
   "outputs": [
    {
     "data": {
      "text/plain": [
       "player_id          0\n",
       "event_timestamp    0\n",
       "event_name         0\n",
       "dtype: int64"
      ]
     },
     "execution_count": 217,
     "metadata": {},
     "output_type": "execute_result"
    }
   ],
   "source": [
    "# Пропуски\n",
    "df.isna().sum()"
   ]
  },
  {
   "cell_type": "code",
   "execution_count": 218,
   "metadata": {},
   "outputs": [],
   "source": [
    "# Приведение времени к формату "
   ]
  },
  {
   "cell_type": "code",
   "execution_count": 219,
   "metadata": {},
   "outputs": [],
   "source": [
    "df['date'] = pd.to_datetime(df['event_timestamp'], unit=\"s\").dt.date"
   ]
  },
  {
   "cell_type": "code",
   "execution_count": 220,
   "metadata": {},
   "outputs": [
    {
     "data": {
      "text/html": [
       "<div>\n",
       "<style scoped>\n",
       "    .dataframe tbody tr th:only-of-type {\n",
       "        vertical-align: middle;\n",
       "    }\n",
       "\n",
       "    .dataframe tbody tr th {\n",
       "        vertical-align: top;\n",
       "    }\n",
       "\n",
       "    .dataframe thead th {\n",
       "        text-align: right;\n",
       "    }\n",
       "</style>\n",
       "<table border=\"1\" class=\"dataframe\">\n",
       "  <thead>\n",
       "    <tr style=\"text-align: right;\">\n",
       "      <th></th>\n",
       "      <th>player_id</th>\n",
       "      <th>event_timestamp</th>\n",
       "      <th>event_name</th>\n",
       "      <th>date</th>\n",
       "    </tr>\n",
       "  </thead>\n",
       "  <tbody>\n",
       "    <tr>\n",
       "      <th>0</th>\n",
       "      <td>1058930</td>\n",
       "      <td>1632265733</td>\n",
       "      <td>install</td>\n",
       "      <td>2021-09-21</td>\n",
       "    </tr>\n",
       "    <tr>\n",
       "      <th>1</th>\n",
       "      <td>1055681</td>\n",
       "      <td>1632412526</td>\n",
       "      <td>login</td>\n",
       "      <td>2021-09-23</td>\n",
       "    </tr>\n",
       "    <tr>\n",
       "      <th>2</th>\n",
       "      <td>1057784</td>\n",
       "      <td>1632411775</td>\n",
       "      <td>login</td>\n",
       "      <td>2021-09-23</td>\n",
       "    </tr>\n",
       "    <tr>\n",
       "      <th>3</th>\n",
       "      <td>1015250</td>\n",
       "      <td>1631923078</td>\n",
       "      <td>login</td>\n",
       "      <td>2021-09-17</td>\n",
       "    </tr>\n",
       "    <tr>\n",
       "      <th>4</th>\n",
       "      <td>1040648</td>\n",
       "      <td>1631670785</td>\n",
       "      <td>login</td>\n",
       "      <td>2021-09-15</td>\n",
       "    </tr>\n",
       "    <tr>\n",
       "      <th>...</th>\n",
       "      <td>...</td>\n",
       "      <td>...</td>\n",
       "      <td>...</td>\n",
       "      <td>...</td>\n",
       "    </tr>\n",
       "    <tr>\n",
       "      <th>52538</th>\n",
       "      <td>1060090</td>\n",
       "      <td>1632338669</td>\n",
       "      <td>install</td>\n",
       "      <td>2021-09-22</td>\n",
       "    </tr>\n",
       "    <tr>\n",
       "      <th>52539</th>\n",
       "      <td>1061249</td>\n",
       "      <td>1632403477</td>\n",
       "      <td>install</td>\n",
       "      <td>2021-09-23</td>\n",
       "    </tr>\n",
       "    <tr>\n",
       "      <th>52540</th>\n",
       "      <td>1062028</td>\n",
       "      <td>1632436754</td>\n",
       "      <td>install</td>\n",
       "      <td>2021-09-23</td>\n",
       "    </tr>\n",
       "    <tr>\n",
       "      <th>52541</th>\n",
       "      <td>1050142</td>\n",
       "      <td>1631918819</td>\n",
       "      <td>login</td>\n",
       "      <td>2021-09-17</td>\n",
       "    </tr>\n",
       "    <tr>\n",
       "      <th>52542</th>\n",
       "      <td>1048702</td>\n",
       "      <td>1631758621</td>\n",
       "      <td>login</td>\n",
       "      <td>2021-09-16</td>\n",
       "    </tr>\n",
       "  </tbody>\n",
       "</table>\n",
       "<p>52543 rows × 4 columns</p>\n",
       "</div>"
      ],
      "text/plain": [
       "       player_id  event_timestamp event_name        date\n",
       "0        1058930       1632265733    install  2021-09-21\n",
       "1        1055681       1632412526      login  2021-09-23\n",
       "2        1057784       1632411775      login  2021-09-23\n",
       "3        1015250       1631923078      login  2021-09-17\n",
       "4        1040648       1631670785      login  2021-09-15\n",
       "...          ...              ...        ...         ...\n",
       "52538    1060090       1632338669    install  2021-09-22\n",
       "52539    1061249       1632403477    install  2021-09-23\n",
       "52540    1062028       1632436754    install  2021-09-23\n",
       "52541    1050142       1631918819      login  2021-09-17\n",
       "52542    1048702       1631758621      login  2021-09-16\n",
       "\n",
       "[52543 rows x 4 columns]"
      ]
     },
     "execution_count": 220,
     "metadata": {},
     "output_type": "execute_result"
    }
   ],
   "source": [
    "df"
   ]
  },
  {
   "cell_type": "markdown",
   "metadata": {},
   "source": [
    "#### Проверим есть ли пользователи не имеющие типа события install"
   ]
  },
  {
   "cell_type": "code",
   "execution_count": 221,
   "metadata": {},
   "outputs": [
    {
     "data": {
      "text/plain": [
       "player_id           int64\n",
       "event_timestamp     int64\n",
       "event_name         object\n",
       "date               object\n",
       "dtype: object"
      ]
     },
     "execution_count": 221,
     "metadata": {},
     "output_type": "execute_result"
    }
   ],
   "source": [
    "df.dtypes"
   ]
  },
  {
   "cell_type": "code",
   "execution_count": 222,
   "metadata": {},
   "outputs": [
    {
     "data": {
      "text/plain": [
       "82.99206017551191"
      ]
     },
     "execution_count": 222,
     "metadata": {},
     "output_type": "execute_result"
    }
   ],
   "source": [
    "100.0*df.query('event_name==\"install\"')['player_id'].nunique() / df.player_id.nunique()"
   ]
  },
  {
   "cell_type": "markdown",
   "metadata": {},
   "source": [
    "**Только у 83% пользователей было событие install.**   \n",
    "**Проблема может носить тех.характер: неверно регистрировались события или мы имем только часть данных и регистрация была у таких пользователей ранее.**  \n",
    "**Поэтому таких пользователей исключим для дальнейшего решения задачи.**  "
   ]
  },
  {
   "cell_type": "code",
   "execution_count": 223,
   "metadata": {},
   "outputs": [],
   "source": [
    "# Определим дату установки приложения. Для тех у кого не было события install будет заполнено NaN.\n",
    "\n",
    "df['install_date'] = (df['player_id'].map(df[df['event_name'].eq('install')]\n",
    "                                        .drop_duplicates('player_id')\n",
    "                                        .set_index('player_id')['date']))"
   ]
  },
  {
   "cell_type": "code",
   "execution_count": 224,
   "metadata": {},
   "outputs": [
    {
     "data": {
      "text/html": [
       "<div>\n",
       "<style scoped>\n",
       "    .dataframe tbody tr th:only-of-type {\n",
       "        vertical-align: middle;\n",
       "    }\n",
       "\n",
       "    .dataframe tbody tr th {\n",
       "        vertical-align: top;\n",
       "    }\n",
       "\n",
       "    .dataframe thead th {\n",
       "        text-align: right;\n",
       "    }\n",
       "</style>\n",
       "<table border=\"1\" class=\"dataframe\">\n",
       "  <thead>\n",
       "    <tr style=\"text-align: right;\">\n",
       "      <th></th>\n",
       "      <th>player_id</th>\n",
       "      <th>event_timestamp</th>\n",
       "      <th>event_name</th>\n",
       "      <th>date</th>\n",
       "      <th>install_date</th>\n",
       "    </tr>\n",
       "  </thead>\n",
       "  <tbody>\n",
       "    <tr>\n",
       "      <th>0</th>\n",
       "      <td>1058930</td>\n",
       "      <td>1632265733</td>\n",
       "      <td>install</td>\n",
       "      <td>2021-09-21</td>\n",
       "      <td>2021-09-21</td>\n",
       "    </tr>\n",
       "    <tr>\n",
       "      <th>1</th>\n",
       "      <td>1055681</td>\n",
       "      <td>1632412526</td>\n",
       "      <td>login</td>\n",
       "      <td>2021-09-23</td>\n",
       "      <td>2021-09-20</td>\n",
       "    </tr>\n",
       "    <tr>\n",
       "      <th>2</th>\n",
       "      <td>1057784</td>\n",
       "      <td>1632411775</td>\n",
       "      <td>login</td>\n",
       "      <td>2021-09-23</td>\n",
       "      <td>2021-09-21</td>\n",
       "    </tr>\n",
       "    <tr>\n",
       "      <th>3</th>\n",
       "      <td>1015250</td>\n",
       "      <td>1631923078</td>\n",
       "      <td>login</td>\n",
       "      <td>2021-09-17</td>\n",
       "      <td>NaN</td>\n",
       "    </tr>\n",
       "    <tr>\n",
       "      <th>4</th>\n",
       "      <td>1040648</td>\n",
       "      <td>1631670785</td>\n",
       "      <td>login</td>\n",
       "      <td>2021-09-15</td>\n",
       "      <td>NaN</td>\n",
       "    </tr>\n",
       "    <tr>\n",
       "      <th>...</th>\n",
       "      <td>...</td>\n",
       "      <td>...</td>\n",
       "      <td>...</td>\n",
       "      <td>...</td>\n",
       "      <td>...</td>\n",
       "    </tr>\n",
       "    <tr>\n",
       "      <th>52538</th>\n",
       "      <td>1060090</td>\n",
       "      <td>1632338669</td>\n",
       "      <td>install</td>\n",
       "      <td>2021-09-22</td>\n",
       "      <td>2021-09-22</td>\n",
       "    </tr>\n",
       "    <tr>\n",
       "      <th>52539</th>\n",
       "      <td>1061249</td>\n",
       "      <td>1632403477</td>\n",
       "      <td>install</td>\n",
       "      <td>2021-09-23</td>\n",
       "      <td>2021-09-23</td>\n",
       "    </tr>\n",
       "    <tr>\n",
       "      <th>52540</th>\n",
       "      <td>1062028</td>\n",
       "      <td>1632436754</td>\n",
       "      <td>install</td>\n",
       "      <td>2021-09-23</td>\n",
       "      <td>2021-09-23</td>\n",
       "    </tr>\n",
       "    <tr>\n",
       "      <th>52541</th>\n",
       "      <td>1050142</td>\n",
       "      <td>1631918819</td>\n",
       "      <td>login</td>\n",
       "      <td>2021-09-17</td>\n",
       "      <td>2021-09-17</td>\n",
       "    </tr>\n",
       "    <tr>\n",
       "      <th>52542</th>\n",
       "      <td>1048702</td>\n",
       "      <td>1631758621</td>\n",
       "      <td>login</td>\n",
       "      <td>2021-09-16</td>\n",
       "      <td>2021-09-16</td>\n",
       "    </tr>\n",
       "  </tbody>\n",
       "</table>\n",
       "<p>52543 rows × 5 columns</p>\n",
       "</div>"
      ],
      "text/plain": [
       "       player_id  event_timestamp event_name        date install_date\n",
       "0        1058930       1632265733    install  2021-09-21   2021-09-21\n",
       "1        1055681       1632412526      login  2021-09-23   2021-09-20\n",
       "2        1057784       1632411775      login  2021-09-23   2021-09-21\n",
       "3        1015250       1631923078      login  2021-09-17          NaN\n",
       "4        1040648       1631670785      login  2021-09-15          NaN\n",
       "...          ...              ...        ...         ...          ...\n",
       "52538    1060090       1632338669    install  2021-09-22   2021-09-22\n",
       "52539    1061249       1632403477    install  2021-09-23   2021-09-23\n",
       "52540    1062028       1632436754    install  2021-09-23   2021-09-23\n",
       "52541    1050142       1631918819      login  2021-09-17   2021-09-17\n",
       "52542    1048702       1631758621      login  2021-09-16   2021-09-16\n",
       "\n",
       "[52543 rows x 5 columns]"
      ]
     },
     "execution_count": 224,
     "metadata": {},
     "output_type": "execute_result"
    }
   ],
   "source": [
    "df"
   ]
  },
  {
   "cell_type": "code",
   "execution_count": 225,
   "metadata": {},
   "outputs": [],
   "source": [
    "# День захода в приложение с момента инсталяции\n",
    "df['days_since_install'] = (df['date'] - df['install_date']).dt.days"
   ]
  },
  {
   "cell_type": "code",
   "execution_count": 226,
   "metadata": {},
   "outputs": [
    {
     "data": {
      "text/html": [
       "<div>\n",
       "<style scoped>\n",
       "    .dataframe tbody tr th:only-of-type {\n",
       "        vertical-align: middle;\n",
       "    }\n",
       "\n",
       "    .dataframe tbody tr th {\n",
       "        vertical-align: top;\n",
       "    }\n",
       "\n",
       "    .dataframe thead th {\n",
       "        text-align: right;\n",
       "    }\n",
       "</style>\n",
       "<table border=\"1\" class=\"dataframe\">\n",
       "  <thead>\n",
       "    <tr style=\"text-align: right;\">\n",
       "      <th></th>\n",
       "      <th>player_id</th>\n",
       "      <th>event_timestamp</th>\n",
       "      <th>event_name</th>\n",
       "      <th>date</th>\n",
       "      <th>install_date</th>\n",
       "      <th>days_since_install</th>\n",
       "    </tr>\n",
       "  </thead>\n",
       "  <tbody>\n",
       "    <tr>\n",
       "      <th>0</th>\n",
       "      <td>1058930</td>\n",
       "      <td>1632265733</td>\n",
       "      <td>install</td>\n",
       "      <td>2021-09-21</td>\n",
       "      <td>2021-09-21</td>\n",
       "      <td>0.0</td>\n",
       "    </tr>\n",
       "    <tr>\n",
       "      <th>1</th>\n",
       "      <td>1055681</td>\n",
       "      <td>1632412526</td>\n",
       "      <td>login</td>\n",
       "      <td>2021-09-23</td>\n",
       "      <td>2021-09-20</td>\n",
       "      <td>3.0</td>\n",
       "    </tr>\n",
       "    <tr>\n",
       "      <th>2</th>\n",
       "      <td>1057784</td>\n",
       "      <td>1632411775</td>\n",
       "      <td>login</td>\n",
       "      <td>2021-09-23</td>\n",
       "      <td>2021-09-21</td>\n",
       "      <td>2.0</td>\n",
       "    </tr>\n",
       "    <tr>\n",
       "      <th>3</th>\n",
       "      <td>1015250</td>\n",
       "      <td>1631923078</td>\n",
       "      <td>login</td>\n",
       "      <td>2021-09-17</td>\n",
       "      <td>NaN</td>\n",
       "      <td>NaN</td>\n",
       "    </tr>\n",
       "    <tr>\n",
       "      <th>4</th>\n",
       "      <td>1040648</td>\n",
       "      <td>1631670785</td>\n",
       "      <td>login</td>\n",
       "      <td>2021-09-15</td>\n",
       "      <td>NaN</td>\n",
       "      <td>NaN</td>\n",
       "    </tr>\n",
       "    <tr>\n",
       "      <th>5</th>\n",
       "      <td>1049800</td>\n",
       "      <td>1631893819</td>\n",
       "      <td>login</td>\n",
       "      <td>2021-09-17</td>\n",
       "      <td>2021-09-16</td>\n",
       "      <td>1.0</td>\n",
       "    </tr>\n",
       "    <tr>\n",
       "      <th>6</th>\n",
       "      <td>1055624</td>\n",
       "      <td>1632102327</td>\n",
       "      <td>install</td>\n",
       "      <td>2021-09-20</td>\n",
       "      <td>2021-09-20</td>\n",
       "      <td>0.0</td>\n",
       "    </tr>\n",
       "    <tr>\n",
       "      <th>7</th>\n",
       "      <td>1047430</td>\n",
       "      <td>1631754816</td>\n",
       "      <td>login</td>\n",
       "      <td>2021-09-16</td>\n",
       "      <td>2021-09-15</td>\n",
       "      <td>1.0</td>\n",
       "    </tr>\n",
       "    <tr>\n",
       "      <th>8</th>\n",
       "      <td>1060568</td>\n",
       "      <td>1632354197</td>\n",
       "      <td>install</td>\n",
       "      <td>2021-09-22</td>\n",
       "      <td>2021-09-22</td>\n",
       "      <td>0.0</td>\n",
       "    </tr>\n",
       "    <tr>\n",
       "      <th>9</th>\n",
       "      <td>1049258</td>\n",
       "      <td>1631896230</td>\n",
       "      <td>login</td>\n",
       "      <td>2021-09-17</td>\n",
       "      <td>2021-09-16</td>\n",
       "      <td>1.0</td>\n",
       "    </tr>\n",
       "  </tbody>\n",
       "</table>\n",
       "</div>"
      ],
      "text/plain": [
       "   player_id  event_timestamp event_name        date install_date  \\\n",
       "0    1058930       1632265733    install  2021-09-21   2021-09-21   \n",
       "1    1055681       1632412526      login  2021-09-23   2021-09-20   \n",
       "2    1057784       1632411775      login  2021-09-23   2021-09-21   \n",
       "3    1015250       1631923078      login  2021-09-17          NaN   \n",
       "4    1040648       1631670785      login  2021-09-15          NaN   \n",
       "5    1049800       1631893819      login  2021-09-17   2021-09-16   \n",
       "6    1055624       1632102327    install  2021-09-20   2021-09-20   \n",
       "7    1047430       1631754816      login  2021-09-16   2021-09-15   \n",
       "8    1060568       1632354197    install  2021-09-22   2021-09-22   \n",
       "9    1049258       1631896230      login  2021-09-17   2021-09-16   \n",
       "\n",
       "   days_since_install  \n",
       "0                 0.0  \n",
       "1                 3.0  \n",
       "2                 2.0  \n",
       "3                 NaN  \n",
       "4                 NaN  \n",
       "5                 1.0  \n",
       "6                 0.0  \n",
       "7                 1.0  \n",
       "8                 0.0  \n",
       "9                 1.0  "
      ]
     },
     "execution_count": 226,
     "metadata": {},
     "output_type": "execute_result"
    }
   ],
   "source": [
    "df.head(10)"
   ]
  },
  {
   "cell_type": "code",
   "execution_count": 227,
   "metadata": {},
   "outputs": [],
   "source": [
    "# Удаляем тех у кого нет события install\n",
    "df_new = df.dropna()"
   ]
  },
  {
   "cell_type": "code",
   "execution_count": 241,
   "metadata": {},
   "outputs": [
    {
     "name": "stderr",
     "output_type": "stream",
     "text": [
      "<ipython-input-241-c5703b2cb1d8>:1: SettingWithCopyWarning: \n",
      "A value is trying to be set on a copy of a slice from a DataFrame.\n",
      "Try using .loc[row_indexer,col_indexer] = value instead\n",
      "\n",
      "See the caveats in the documentation: https://pandas.pydata.org/pandas-docs/stable/user_guide/indexing.html#returning-a-view-versus-a-copy\n",
      "  df_new['install_date'] = pd.to_datetime(df_new['install_date'])\n"
     ]
    }
   ],
   "source": [
    "df_new['install_date'] = pd.to_datetime(df_new['install_date'])"
   ]
  },
  {
   "cell_type": "markdown",
   "metadata": {},
   "source": [
    "#### Рассчитаем retention"
   ]
  },
  {
   "cell_type": "code",
   "execution_count": 242,
   "metadata": {},
   "outputs": [],
   "source": [
    "def retention_rate(df, start, end, plot=True):\n",
    "\n",
    "    cohort_counts = df.groupby(['install_date', 'days_since_install'], as_index = False) \\\n",
    "        .agg({'player_id':'nunique'}) \\\n",
    "        .pivot(index='install_date', columns='days_since_install', values='player_id')[start:end]\n",
    "\n",
    "    Nday = cohort_counts[0] # 0 считается как 1-й день\n",
    "    retention = cohort_counts.divide(Nday, axis=0).round(3)\n",
    "    \n",
    "    if plot:\n",
    "           \n",
    "        plt.figure(figsize=(16,12))\n",
    "        plt.title('Retention Rate')\n",
    "        ax = sns.heatmap(data=retention.iloc[:, 0:31], annot=True, fmt='.2%', vmin=0.0, vmax=1)\n",
    "        ax.set_yticklabels(retention.index)\n",
    "        fig=ax.get_figure()\n",
    "\n",
    "    return cohort_counts.iloc[:, 0:31]"
   ]
  },
  {
   "cell_type": "code",
   "execution_count": 243,
   "metadata": {},
   "outputs": [
    {
     "data": {
      "text/html": [
       "<div>\n",
       "<style scoped>\n",
       "    .dataframe tbody tr th:only-of-type {\n",
       "        vertical-align: middle;\n",
       "    }\n",
       "\n",
       "    .dataframe tbody tr th {\n",
       "        vertical-align: top;\n",
       "    }\n",
       "\n",
       "    .dataframe thead th {\n",
       "        text-align: right;\n",
       "    }\n",
       "</style>\n",
       "<table border=\"1\" class=\"dataframe\">\n",
       "  <thead>\n",
       "    <tr style=\"text-align: right;\">\n",
       "      <th>days_since_install</th>\n",
       "      <th>0.0</th>\n",
       "      <th>1.0</th>\n",
       "      <th>2.0</th>\n",
       "      <th>3.0</th>\n",
       "      <th>4.0</th>\n",
       "      <th>5.0</th>\n",
       "      <th>6.0</th>\n",
       "      <th>7.0</th>\n",
       "      <th>8.0</th>\n",
       "    </tr>\n",
       "    <tr>\n",
       "      <th>install_date</th>\n",
       "      <th></th>\n",
       "      <th></th>\n",
       "      <th></th>\n",
       "      <th></th>\n",
       "      <th></th>\n",
       "      <th></th>\n",
       "      <th></th>\n",
       "      <th></th>\n",
       "      <th></th>\n",
       "    </tr>\n",
       "  </thead>\n",
       "  <tbody>\n",
       "    <tr>\n",
       "      <th>2021-09-15</th>\n",
       "      <td>1327.0</td>\n",
       "      <td>428.0</td>\n",
       "      <td>247.0</td>\n",
       "      <td>174.0</td>\n",
       "      <td>140.0</td>\n",
       "      <td>85.0</td>\n",
       "      <td>71.0</td>\n",
       "      <td>72.0</td>\n",
       "      <td>44.0</td>\n",
       "    </tr>\n",
       "    <tr>\n",
       "      <th>2021-09-16</th>\n",
       "      <td>1284.0</td>\n",
       "      <td>398.0</td>\n",
       "      <td>253.0</td>\n",
       "      <td>160.0</td>\n",
       "      <td>117.0</td>\n",
       "      <td>84.0</td>\n",
       "      <td>67.0</td>\n",
       "      <td>49.0</td>\n",
       "      <td>NaN</td>\n",
       "    </tr>\n",
       "    <tr>\n",
       "      <th>2021-09-17</th>\n",
       "      <td>1483.0</td>\n",
       "      <td>495.0</td>\n",
       "      <td>252.0</td>\n",
       "      <td>165.0</td>\n",
       "      <td>130.0</td>\n",
       "      <td>93.0</td>\n",
       "      <td>83.0</td>\n",
       "      <td>NaN</td>\n",
       "      <td>NaN</td>\n",
       "    </tr>\n",
       "    <tr>\n",
       "      <th>2021-09-18</th>\n",
       "      <td>1779.0</td>\n",
       "      <td>566.0</td>\n",
       "      <td>286.0</td>\n",
       "      <td>191.0</td>\n",
       "      <td>158.0</td>\n",
       "      <td>111.0</td>\n",
       "      <td>NaN</td>\n",
       "      <td>NaN</td>\n",
       "      <td>NaN</td>\n",
       "    </tr>\n",
       "  </tbody>\n",
       "</table>\n",
       "</div>"
      ],
      "text/plain": [
       "days_since_install     0.0    1.0    2.0    3.0    4.0    5.0   6.0   7.0  \\\n",
       "install_date                                                                \n",
       "2021-09-15          1327.0  428.0  247.0  174.0  140.0   85.0  71.0  72.0   \n",
       "2021-09-16          1284.0  398.0  253.0  160.0  117.0   84.0  67.0  49.0   \n",
       "2021-09-17          1483.0  495.0  252.0  165.0  130.0   93.0  83.0   NaN   \n",
       "2021-09-18          1779.0  566.0  286.0  191.0  158.0  111.0   NaN   NaN   \n",
       "\n",
       "days_since_install   8.0  \n",
       "install_date              \n",
       "2021-09-15          44.0  \n",
       "2021-09-16           NaN  \n",
       "2021-09-17           NaN  \n",
       "2021-09-18           NaN  "
      ]
     },
     "execution_count": 243,
     "metadata": {},
     "output_type": "execute_result"
    },
    {
     "data": {
      "image/png": "[encoded data removed]",
      "text/plain": [
       "<Figure size 1152x864 with 2 Axes>"
      ]
     },
     "metadata": {
      "needs_background": "light"
     },
     "output_type": "display_data"
    }
   ],
   "source": [
    "retention_rate(df, pd.to_datetime('2021-09-15'),  pd.to_datetime('2021-09-18'), True)"
   ]
  },
  {
   "cell_type": "code",
   "execution_count": 245,
   "metadata": {},
   "outputs": [
    {
     "data": {
      "text/html": [
       "<div>\n",
       "<style scoped>\n",
       "    .dataframe tbody tr th:only-of-type {\n",
       "        vertical-align: middle;\n",
       "    }\n",
       "\n",
       "    .dataframe tbody tr th {\n",
       "        vertical-align: top;\n",
       "    }\n",
       "\n",
       "    .dataframe thead th {\n",
       "        text-align: right;\n",
       "    }\n",
       "</style>\n",
       "<table border=\"1\" class=\"dataframe\">\n",
       "  <thead>\n",
       "    <tr style=\"text-align: right;\">\n",
       "      <th>days_since_install</th>\n",
       "      <th>0.0</th>\n",
       "      <th>1.0</th>\n",
       "      <th>2.0</th>\n",
       "      <th>3.0</th>\n",
       "      <th>4.0</th>\n",
       "      <th>5.0</th>\n",
       "      <th>6.0</th>\n",
       "      <th>7.0</th>\n",
       "      <th>8.0</th>\n",
       "    </tr>\n",
       "    <tr>\n",
       "      <th>install_date</th>\n",
       "      <th></th>\n",
       "      <th></th>\n",
       "      <th></th>\n",
       "      <th></th>\n",
       "      <th></th>\n",
       "      <th></th>\n",
       "      <th></th>\n",
       "      <th></th>\n",
       "      <th></th>\n",
       "    </tr>\n",
       "  </thead>\n",
       "  <tbody>\n",
       "    <tr>\n",
       "      <th>2021-09-19</th>\n",
       "      <td>1674.0</td>\n",
       "      <td>509.0</td>\n",
       "      <td>271.0</td>\n",
       "      <td>172.0</td>\n",
       "      <td>109.0</td>\n",
       "      <td>NaN</td>\n",
       "      <td>NaN</td>\n",
       "      <td>NaN</td>\n",
       "      <td>NaN</td>\n",
       "    </tr>\n",
       "    <tr>\n",
       "      <th>2021-09-20</th>\n",
       "      <td>1380.0</td>\n",
       "      <td>404.0</td>\n",
       "      <td>229.0</td>\n",
       "      <td>159.0</td>\n",
       "      <td>NaN</td>\n",
       "      <td>NaN</td>\n",
       "      <td>NaN</td>\n",
       "      <td>NaN</td>\n",
       "      <td>NaN</td>\n",
       "    </tr>\n",
       "    <tr>\n",
       "      <th>2021-09-21</th>\n",
       "      <td>2123.0</td>\n",
       "      <td>523.0</td>\n",
       "      <td>287.0</td>\n",
       "      <td>NaN</td>\n",
       "      <td>NaN</td>\n",
       "      <td>NaN</td>\n",
       "      <td>NaN</td>\n",
       "      <td>NaN</td>\n",
       "      <td>NaN</td>\n",
       "    </tr>\n",
       "    <tr>\n",
       "      <th>2021-09-22</th>\n",
       "      <td>1343.0</td>\n",
       "      <td>358.0</td>\n",
       "      <td>NaN</td>\n",
       "      <td>NaN</td>\n",
       "      <td>NaN</td>\n",
       "      <td>NaN</td>\n",
       "      <td>NaN</td>\n",
       "      <td>NaN</td>\n",
       "      <td>NaN</td>\n",
       "    </tr>\n",
       "  </tbody>\n",
       "</table>\n",
       "</div>"
      ],
      "text/plain": [
       "days_since_install     0.0    1.0    2.0    3.0    4.0  5.0  6.0  7.0  8.0\n",
       "install_date                                                              \n",
       "2021-09-19          1674.0  509.0  271.0  172.0  109.0  NaN  NaN  NaN  NaN\n",
       "2021-09-20          1380.0  404.0  229.0  159.0    NaN  NaN  NaN  NaN  NaN\n",
       "2021-09-21          2123.0  523.0  287.0    NaN    NaN  NaN  NaN  NaN  NaN\n",
       "2021-09-22          1343.0  358.0    NaN    NaN    NaN  NaN  NaN  NaN  NaN"
      ]
     },
     "execution_count": 245,
     "metadata": {},
     "output_type": "execute_result"
    },
    {
     "data": {
      "image/png": "[encoded data removed]",
      "text/plain": [
       "<Figure size 1152x864 with 2 Axes>"
      ]
     },
     "metadata": {
      "needs_background": "light"
     },
     "output_type": "display_data"
    }
   ],
   "source": [
    "retention_rate(df, pd.to_datetime('2021-09-19'),pd.to_datetime('2021-09-22'), True)"
   ]
  },
  {
   "cell_type": "code",
   "execution_count": 248,
   "metadata": {},
   "outputs": [],
   "source": [
    "# Таблицы с ретеншеном для двух групп\n",
    "r_1509_1809 = retention_rate(df, pd.to_datetime('2021-09-15'), pd.to_datetime('2021-09-18'), False)\n",
    "r_1909_2209 = retention_rate(df, pd.to_datetime('2021-09-19'),pd.to_datetime('2021-09-22'), False)"
   ]
  },
  {
   "cell_type": "code",
   "execution_count": 249,
   "metadata": {},
   "outputs": [
    {
     "name": "stdout",
     "output_type": "stream",
     "text": [
      "Количество установок в группе 1: 5873\n"
     ]
    }
   ],
   "source": [
    "# Общее количество интсаляций в первой группе\n",
    "install_1509_1809=r_1509_1809.reset_index().query('days_since_install in (0, 1, 2, 3)')[0].sum()\n",
    "print(f'Количество установок в группе 1: {install_1509_1809:.0f}')"
   ]
  },
  {
   "cell_type": "code",
   "execution_count": 250,
   "metadata": {},
   "outputs": [
    {
     "name": "stdout",
     "output_type": "stream",
     "text": [
      "Количество установок в группе 2: 6520\n"
     ]
    }
   ],
   "source": [
    "# Общее количество интсаляций во второй группе\n",
    "install_1909_2209=r_1909_2209.reset_index().query('days_since_install in (0, 1, 2, 3)')[0].sum()\n",
    "print(f'Количество установок в группе 2: {install_1909_2209:.0f}')"
   ]
  },
  {
   "cell_type": "code",
   "execution_count": 251,
   "metadata": {},
   "outputs": [
    {
     "name": "stdout",
     "output_type": "stream",
     "text": [
      "Количество пользователей вернувшихся в приложение в первый день в группе 1: 1887\n"
     ]
    }
   ],
   "source": [
    "retention_1d_1509_1809 = r_1509_1809.reset_index().query('days_since_install in (0, 1, 2, 3)')[1].sum()\n",
    "print(f'Количество пользователей вернувшихся в приложение в первый день в группе 1: {retention_1d_1509_1809:.0f}')"
   ]
  },
  {
   "cell_type": "code",
   "execution_count": 252,
   "metadata": {},
   "outputs": [
    {
     "name": "stdout",
     "output_type": "stream",
     "text": [
      "Количество пользователей вернувшихся в приложение в первый день в группе 2: 1794\n"
     ]
    }
   ],
   "source": [
    "retention_1d_1909_2209 = r_1909_2209.reset_index().query('days_since_install in (0, 1, 2, 3)')[1].sum()\n",
    "print(f'Количество пользователей вернувшихся в приложение в первый день в группе 2: {retention_1d_1909_2209:.0f}')"
   ]
  },
  {
   "cell_type": "code",
   "execution_count": 253,
   "metadata": {},
   "outputs": [
    {
     "name": "stdout",
     "output_type": "stream",
     "text": [
      "Retention 1-о дня в группе 1: 32.13%\n"
     ]
    }
   ],
   "source": [
    "r_1D_1 = retention_1d_1509_1809/install_1509_1809\n",
    "print(f'Retention 1-о дня в группе 1: {r_1D_1:.2%}')"
   ]
  },
  {
   "cell_type": "code",
   "execution_count": 254,
   "metadata": {},
   "outputs": [
    {
     "name": "stdout",
     "output_type": "stream",
     "text": [
      "Retention 1-о дня в группе 1: 27.52%\n"
     ]
    }
   ],
   "source": [
    "r_1D_2 = retention_1d_1909_2209/install_1909_2209\n",
    "print(f'Retention 1-о дня в группе 1: {r_1D_2:.2%}')"
   ]
  },
  {
   "cell_type": "code",
   "execution_count": 255,
   "metadata": {},
   "outputs": [
    {
     "name": "stdout",
     "output_type": "stream",
     "text": [
      "Разница между группой 1 и группой 2: 4.61%\n"
     ]
    }
   ],
   "source": [
    "print(f'Разница между группой 1 и группой 2: {r_1D_1-r_1D_2:.2%}')"
   ]
  },
  {
   "cell_type": "code",
   "execution_count": 211,
   "metadata": {},
   "outputs": [],
   "source": [
    "# Размер групп графически."
   ]
  },
  {
   "cell_type": "code",
   "execution_count": 256,
   "metadata": {},
   "outputs": [],
   "source": [
    "group_size = pd.DataFrame({\"A\": [install_1509_1809], \"B\":[install_1909_2209]})"
   ]
  },
  {
   "cell_type": "code",
   "execution_count": 257,
   "metadata": {},
   "outputs": [
    {
     "data": {
      "image/png": "[encoded data removed]",
      "text/plain": [
       "<Figure size 432x288 with 1 Axes>"
      ]
     },
     "metadata": {
      "needs_background": "light"
     },
     "output_type": "display_data"
    }
   ],
   "source": [
    "sns.barplot(data=group_size);"
   ]
  },
  {
   "cell_type": "markdown",
   "metadata": {},
   "source": [
    "Для того чтобы ответить на вопрос что удержание первого дня выше, чем удержание ворого дня, необходимо убедиться, что любые обнаруженные различия являются статистически значимыми и что эти различия имеют достаточную статистическую мощность, а не вызваны случайным характером. Чтобы это проверить можно воспользоваться статистичскими тестами: Z-test или chi2, а также GLM(Обобщенные линейные модели). Я буду применять тест хи квадрат."
   ]
  },
  {
   "cell_type": "markdown",
   "metadata": {},
   "source": [
    "#### Проверка достаточности размера выборки"
   ]
  },
  {
   "cell_type": "markdown",
   "metadata": {},
   "source": [
    "Сначала проверяется достаточно ли велик размер выборки (размер каждой когорты). Нет смысла проверять статистическую значимость, если результаты не обладают достаточной мощностью."
   ]
  },
  {
   "cell_type": "code",
   "execution_count": 258,
   "metadata": {},
   "outputs": [],
   "source": [
    "# Reference: https://towardsdatascience.com/the-math-behind-a-b-testing-with-example-code-part-1-of-2-7be752e1d06f\n",
    "\n",
    "def min_sample_size(bcr, mde, power=0.8, sig_level=0.05):\n",
    "    \"\"\"Returns the minimum sample size to set up a split test\n",
    "    Arguments:\n",
    "        bcr (float): probability of success for control, sometimes\n",
    "        referred to as baseline conversion rate\n",
    "        mde (float): minimum change in measurement between control\n",
    "        group and test group if alternative hypothesis is true, sometimes\n",
    "        referred to as minimum detectable effect\n",
    "        power (float): probability of rejecting the null hypothesis when the\n",
    "        null hypothesis is false, typically 0.8\n",
    "        sig_level (float): significance level often denoted as alpha,\n",
    "        typically 0.05\n",
    "    Returns:\n",
    "        min_N: minimum sample size (float)\n",
    "    References:\n",
    "        Stanford lecture on sample sizes\n",
    "        http://statweb.stanford.edu/~susan/courses/s141/hopower.pdf\n",
    "    \"\"\"\n",
    "    # standard normal distribution to determine z-values\n",
    "    standard_norm = scs.norm(0, 1)\n",
    "\n",
    "    # find Z_beta from desired power\n",
    "    Z_beta = standard_norm.ppf(power)\n",
    "\n",
    "    # find Z_alpha\n",
    "    Z_alpha = standard_norm.ppf(1-sig_level/2)\n",
    "\n",
    "    # average of probabilities from both groups\n",
    "    pooled_prob = (bcr + bcr+mde) / 2\n",
    "\n",
    "    min_N = (2 * pooled_prob * (1 - pooled_prob) * (Z_beta + Z_alpha)**2\n",
    "             / mde**2)\n",
    "\n",
    "    return min_N"
   ]
  },
  {
   "cell_type": "code",
   "execution_count": 259,
   "metadata": {},
   "outputs": [
    {
     "data": {
      "text/plain": [
       "3477.489771190777"
      ]
     },
     "execution_count": 259,
     "metadata": {},
     "output_type": "execute_result"
    }
   ],
   "source": [
    "min_sample_size2 = min_sample_size(bcr=0.26, mde=0.03)\n",
    "min_sample_size2"
   ]
  },
  {
   "cell_type": "code",
   "execution_count": 260,
   "metadata": {},
   "outputs": [
    {
     "data": {
      "text/plain": [
       "3885.63151737693"
      ]
     },
     "execution_count": 260,
     "metadata": {},
     "output_type": "execute_result"
    }
   ],
   "source": [
    "min_sample_size1 = min_sample_size(bcr=0.32, mde=0.03)\n",
    "min_sample_size1"
   ]
  },
  {
   "cell_type": "code",
   "execution_count": 261,
   "metadata": {},
   "outputs": [
    {
     "name": "stdout",
     "output_type": "stream",
     "text": [
      "Размер выборки больше минимального. Можно провдить тест на стат.значимость\n"
     ]
    }
   ],
   "source": [
    "if (install_1509_1809>min_sample_size1) and (install_1909_2209>min_sample_size2):\n",
    "    print('Размер выборки больше минимального. Можно провдить тест на стат.значимость')\n",
    "else:\n",
    "    print('Размер выборки меньше минимального')"
   ]
  },
  {
   "cell_type": "markdown",
   "metadata": {},
   "source": [
    "### Chi squared test"
   ]
  },
  {
   "cell_type": "code",
   "execution_count": 262,
   "metadata": {},
   "outputs": [],
   "source": [
    "# Функция расчета хи квадрат с помощью таблиц сопряженности. \n",
    "def chi_squared_function(e, o):\n",
    "    \"\"\"\n",
    "    Returns fomulas calculation chi_squared\n",
    "    Arguments:\n",
    "        E - expected value;\n",
    "        O - observed value.\n",
    "    \"\"\"\n",
    "    return (e - o) * (e - o) / e"
   ]
  },
  {
   "cell_type": "code",
   "execution_count": 263,
   "metadata": {},
   "outputs": [],
   "source": [
    "def chi_squared(s1, t1, s2, t2):\n",
    "    \"\"\"\n",
    "    Returns chi sqared value.\n",
    "    Arguments:\n",
    "        s1 - count successes in group 1;\n",
    "        s2 - count successes in group 2.\n",
    "        t1 - count trials in group 1;\n",
    "        t2 - count trials in group 2;\n",
    "     References:\n",
    "        https://www.evanmiller.org/ab-testing/chi-squared.html   \n",
    "    \"\"\"\n",
    "    test_stat = 0.0\n",
    "    mean_p = (s1 + s2) / (t1 + t2)\n",
    "    test_stat += chi_squared_function(mean_p * t1, s1)\n",
    "    test_stat += chi_squared_function((1-mean_p) * t1, t1 - s1)\n",
    "    test_stat += chi_squared_function(mean_p * t2, s2)\n",
    "    test_stat += chi_squared_function((1-mean_p) * t2, t2 - s2)\n",
    "    return test_stat"
   ]
  },
  {
   "cell_type": "code",
   "execution_count": 264,
   "metadata": {},
   "outputs": [],
   "source": [
    "# Функция расчета доврительных интервалов для групп\n",
    "def confidence_interval(successes, trials, confidence_level=0.95, n_tails=2):\n",
    "    \"\"\"\n",
    "    Returns lower and upper confidence intervals.\n",
    "    Arguments:\n",
    "        successes - successes in group;\n",
    "        trials - trials in group.\n",
    "        confidence_level ;\n",
    "        n_tails - one-tail or 2-tail test;\n",
    "    \"\"\" \n",
    "    alpha = (1 - confidence_level)/n_tails\n",
    "    z_score = scs.norm.ppf(1 - alpha)\n",
    "    s = successes/trials\n",
    "    se = np.sqrt(s * (1 - s) / trials)\n",
    "    \n",
    "    lower_CI= s - z_score* se\n",
    "    upper_CI = s + z_score* se\n",
    "\n",
    "    return lower_CI, upper_CI"
   ]
  },
  {
   "cell_type": "markdown",
   "metadata": {},
   "source": [
    "#### Расчет доверительных интервалов"
   ]
  },
  {
   "cell_type": "code",
   "execution_count": 265,
   "metadata": {},
   "outputs": [
    {
     "data": {
      "text/plain": [
       "[[1887.0, 3986.0, 5873.0], [1794.0, 4726.0, 6520.0]]"
      ]
     },
     "execution_count": 265,
     "metadata": {},
     "output_type": "execute_result"
    }
   ],
   "source": [
    "# Таблица сопряженности\n",
    "table_contingency = [[retention_1d_1509_1809, install_1509_1809-retention_1d_1509_1809, install_1509_1809],\n",
    "         [retention_1d_1909_2209, install_1909_2209-retention_1d_1909_2209, install_1909_2209]]\n",
    "table_contingency"
   ]
  },
  {
   "cell_type": "code",
   "execution_count": 267,
   "metadata": {},
   "outputs": [],
   "source": [
    "successes1, trials1 = table_contingency[0][0], table_contingency[0][2]\n",
    "successes2, trials2 = table_contingency[1][0], table_contingency[1][2]"
   ]
  },
  {
   "cell_type": "code",
   "execution_count": 268,
   "metadata": {},
   "outputs": [],
   "source": [
    "ci1 = confidence_interval(successes1, trials1)\n",
    "ci2 = confidence_interval(successes2, trials2)"
   ]
  },
  {
   "cell_type": "code",
   "execution_count": 269,
   "metadata": {},
   "outputs": [
    {
     "name": "stdout",
     "output_type": "stream",
     "text": [
      "(0.30935788887583154, 0.33324384788561917) (0.26431323712131505, 0.28599351134494266)\n"
     ]
    }
   ],
   "source": [
    "print(ci1, ci2)"
   ]
  },
  {
   "cell_type": "code",
   "execution_count": 455,
   "metadata": {},
   "outputs": [],
   "source": [
    "# Reference evan miller https://www.evanmiller.org/ab-testing/chi-squared.html\n",
    "# def confidence_interval(s, t, z_score):\n",
    "#     phat = s / t\n",
    "#     a = phat + z_score * z_score / (2 * t)\n",
    "#     b = z_score * np.sqrt((phat * (1 - phat) + z_score * z_score / (4 * t)) / t);\n",
    "#     c = (1 + z_score * z_score / t)\n",
    "\n",
    "#     return (a - b) / c, (a + b) / c"
   ]
  },
  {
   "cell_type": "markdown",
   "metadata": {},
   "source": [
    "### Расчет хи квадрат"
   ]
  },
  {
   "cell_type": "code",
   "execution_count": 270,
   "metadata": {},
   "outputs": [],
   "source": [
    "chi_sq = chi_squared(successes1, trials1, successes2, trials2)\n",
    "p_value = 1.0 - scs.chi2.cdf(chi_sq, 2)\n",
    "confidence_level = 0.95"
   ]
  },
  {
   "cell_type": "code",
   "execution_count": 271,
   "metadata": {},
   "outputs": [
    {
     "name": "stdout",
     "output_type": "stream",
     "text": [
      "chi_sqared=31.51, p_value=0.000\n",
      "Границы доверительных интервалов:\n",
      "Группа 1: 30.94% - 33.32%, Группа 2: 26.43% - 28.60%\n",
      "Группа 1 статистически значимо более успешна\n"
     ]
    }
   ],
   "source": [
    "# stat, p, dof, expected = chi2_contingency(table, correction=False)\n",
    "print(f'chi_sqared={chi_sq:.2f}, p_value={p_value:.3f}')\n",
    "if (p_value < 1.0 - confidence_level):\n",
    "    if (successes1 / trials1 > successes2 / trials2):\n",
    "        print(f'Границы доверительных интервалов:')\n",
    "        print(f'Группа 1: {ci1[0]:.2%} - {ci1[1]:.2%}, Группа 2: {ci2[0]:.2%} - {ci2[1]:.2%}')\n",
    "        print(\"Группа 1 статистически значимо более успешна\")\n",
    "    else:\n",
    "        print(\"Группа 2 статистически значимо более успешна\")\n",
    "        print(f'Доверительные интервалы {ci2}')"
   ]
  },
  {
   "cell_type": "markdown",
   "metadata": {},
   "source": [
    "**Разница, которую мы обнаружили между коэффициентом удержания двух когорт, статистически значима. С вероятностью 95% фактический коэффициент удержания первой когорты колеблется от 30.94% до 33.32%, а второй когорты — от 26.43% до 28.60%. Поскольку эти два диапазона не пересекаются, то мы можем с вероятностью 95% сказать, что обнаруженное нами улучшение является не случайным.**"
   ]
  }
 ],
 "metadata": {
  "kernelspec": {
   "display_name": "Python 3",
   "language": "python",
   "name": "python3"
  },
  "language_info": {
   "codemirror_mode": {
    "name": "ipython",
    "version": 3
   },
   "file_extension": ".py",
   "mimetype": "text/x-python",
   "name": "python",
   "nbconvert_exporter": "python",
   "pygments_lexer": "ipython3",
   "version": "3.8.3"
  }
 },
 "nbformat": 4,
 "nbformat_minor": 4
}
